{
  "nbformat": 4,
  "nbformat_minor": 0,
  "metadata": {
    "colab": {
      "provenance": [],
      "authorship_tag": "ABX9TyMHA4GGVeOtcQOawqIvJUd6",
      "include_colab_link": true
    },
    "kernelspec": {
      "name": "python3",
      "display_name": "Python 3"
    },
    "language_info": {
      "name": "python"
    }
  },
  "cells": [
    {
      "cell_type": "markdown",
      "metadata": {
        "id": "view-in-github",
        "colab_type": "text"
      },
      "source": [
        "<a href=\"https://colab.research.google.com/github/csoren66/Assignment/blob/main/Assignment_1.ipynb\" target=\"_parent\"><img src=\"https://colab.research.google.com/assets/colab-badge.svg\" alt=\"Open In Colab\"/></a>"
      ]
    },
    {
      "cell_type": "markdown",
      "source": [
        "#Assignment - 1"
      ],
      "metadata": {
        "id": "t_pUXqci09Ci"
      }
    },
    {
      "cell_type": "code",
      "execution_count": 1,
      "metadata": {
        "colab": {
          "base_uri": "https://localhost:8080/"
        },
        "id": "ZNxmUaEny2WM",
        "outputId": "592e0a46-dbc2-44b1-eaeb-b557132d9e21"
      },
      "outputs": [
        {
          "output_type": "stream",
          "name": "stdout",
          "text": [
            "Good evening all\n"
          ]
        }
      ],
      "source": [
        "print(\"Good evening all\")"
      ]
    },
    {
      "cell_type": "code",
      "source": [
        "a=\"Hello everyone\" \n",
        "print(a)\n",
        "print(type(a))"
      ],
      "metadata": {
        "colab": {
          "base_uri": "https://localhost:8080/"
        },
        "id": "EhKJKHc9zCaE",
        "outputId": "b8234f08-7d36-4e60-b917-ad34a2152d26"
      },
      "execution_count": 2,
      "outputs": [
        {
          "output_type": "stream",
          "name": "stdout",
          "text": [
            "Hello everyone\n",
            "<class 'str'>\n"
          ]
        }
      ]
    },
    {
      "cell_type": "code",
      "source": [
        "num1=3387 \n",
        "num2=3.47 \n",
        "print(type(num2))\n",
        "print(type(num1))"
      ],
      "metadata": {
        "colab": {
          "base_uri": "https://localhost:8080/"
        },
        "id": "XooRqNCIzEyA",
        "outputId": "4cf35b22-faf4-4224-ca22-d0dedee5826f"
      },
      "execution_count": 3,
      "outputs": [
        {
          "output_type": "stream",
          "name": "stdout",
          "text": [
            "<class 'float'>\n",
            "<class 'int'>\n"
          ]
        }
      ]
    },
    {
      "cell_type": "code",
      "source": [
        "print(num1-num2)"
      ],
      "metadata": {
        "colab": {
          "base_uri": "https://localhost:8080/"
        },
        "id": "Qfy1i7tkzIQZ",
        "outputId": "f9260f86-b41e-4700-bc13-467b4308aa8c"
      },
      "execution_count": 4,
      "outputs": [
        {
          "output_type": "stream",
          "name": "stdout",
          "text": [
            "3383.53\n"
          ]
        }
      ]
    },
    {
      "cell_type": "code",
      "source": [
        "print(10<9)\n",
        "add=False\n",
        "print(add)\n",
        "print(type(add))"
      ],
      "metadata": {
        "colab": {
          "base_uri": "https://localhost:8080/"
        },
        "id": "2WqBxZVazKgG",
        "outputId": "4c667d12-2c49-4b30-ed15-60450a9c9ee4"
      },
      "execution_count": 5,
      "outputs": [
        {
          "output_type": "stream",
          "name": "stdout",
          "text": [
            "False\n",
            "False\n",
            "<class 'bool'>\n"
          ]
        }
      ]
    },
    {
      "cell_type": "code",
      "source": [
        "name=\"Jerry\"\n",
        "no=3\n",
        "\n",
        "print(\"Hello\"+name,no)"
      ],
      "metadata": {
        "colab": {
          "base_uri": "https://localhost:8080/"
        },
        "id": "pR3r9SPezNKr",
        "outputId": "06e5cf61-6de7-42d1-ee06-2f013783c2f8"
      },
      "execution_count": 6,
      "outputs": [
        {
          "output_type": "stream",
          "name": "stdout",
          "text": [
            "HelloJerry 3\n"
          ]
        }
      ]
    },
    {
      "cell_type": "code",
      "source": [
        "mylist=[\"Data\",\"Details\",\"Access\"] \n",
        "mylist1=[366,476.0,True,\"Data\"]\n",
        "print(mylist1)"
      ],
      "metadata": {
        "colab": {
          "base_uri": "https://localhost:8080/"
        },
        "id": "r658GmalzQVI",
        "outputId": "4868c187-15f1-4613-f789-f458077d610f"
      },
      "execution_count": 7,
      "outputs": [
        {
          "output_type": "stream",
          "name": "stdout",
          "text": [
            "[366, 476.0, True, 'Data']\n"
          ]
        }
      ]
    },
    {
      "cell_type": "code",
      "source": [
        "mylist1[2]=False\n",
        "print(mylist1)"
      ],
      "metadata": {
        "colab": {
          "base_uri": "https://localhost:8080/"
        },
        "id": "VbzoBAnQzTXH",
        "outputId": "eeda7d72-5b99-4c50-f313-7373ca0ae8ae"
      },
      "execution_count": 8,
      "outputs": [
        {
          "output_type": "stream",
          "name": "stdout",
          "text": [
            "[366, 476.0, False, 'Data']\n"
          ]
        }
      ]
    },
    {
      "cell_type": "code",
      "source": [
        "mylist1.add(\"data1\")  ### list has not any attribute like  add \n",
        "print(mylist1)"
      ],
      "metadata": {
        "colab": {
          "base_uri": "https://localhost:8080/",
          "height": 182
        },
        "id": "e3PNXY46zYVS",
        "outputId": "0ad2a57a-b42a-4ebd-fbf5-1ef0f803f2f4"
      },
      "execution_count": 9,
      "outputs": [
        {
          "output_type": "error",
          "ename": "AttributeError",
          "evalue": "ignored",
          "traceback": [
            "\u001b[0;31m---------------------------------------------------------------------------\u001b[0m",
            "\u001b[0;31mAttributeError\u001b[0m                            Traceback (most recent call last)",
            "\u001b[0;32m<ipython-input-9-20f1d6d6d53d>\u001b[0m in \u001b[0;36m<module>\u001b[0;34m\u001b[0m\n\u001b[0;32m----> 1\u001b[0;31m \u001b[0mmylist1\u001b[0m\u001b[0;34m.\u001b[0m\u001b[0madd\u001b[0m\u001b[0;34m(\u001b[0m\u001b[0;34m\"data1\"\u001b[0m\u001b[0;34m)\u001b[0m  \u001b[0;31m### list has not any attribute like  add\u001b[0m\u001b[0;34m\u001b[0m\u001b[0;34m\u001b[0m\u001b[0m\n\u001b[0m\u001b[1;32m      2\u001b[0m \u001b[0mprint\u001b[0m\u001b[0;34m(\u001b[0m\u001b[0mmylist1\u001b[0m\u001b[0;34m)\u001b[0m\u001b[0;34m\u001b[0m\u001b[0;34m\u001b[0m\u001b[0m\n",
            "\u001b[0;31mAttributeError\u001b[0m: 'list' object has no attribute 'add'"
          ]
        }
      ]
    },
    {
      "cell_type": "code",
      "source": [
        "mylist1.insert(1000,300)\n",
        "print(mylist1)"
      ],
      "metadata": {
        "colab": {
          "base_uri": "https://localhost:8080/"
        },
        "id": "P_dF3rpZzbjZ",
        "outputId": "2af832f8-4279-4f3c-8531-179eb49fa4e6"
      },
      "execution_count": 10,
      "outputs": [
        {
          "output_type": "stream",
          "name": "stdout",
          "text": [
            "[366, 476.0, False, 'Data', 300]\n"
          ]
        }
      ]
    },
    {
      "cell_type": "code",
      "source": [
        "del mylist1[5] ###indexno.5 has not any data so its show error\n",
        "print(mylist1)"
      ],
      "metadata": {
        "colab": {
          "base_uri": "https://localhost:8080/",
          "height": 182
        },
        "id": "iqHqq15tzhw9",
        "outputId": "9f1eb473-3a09-4307-f247-9b85edc6d568"
      },
      "execution_count": 11,
      "outputs": [
        {
          "output_type": "error",
          "ename": "IndexError",
          "evalue": "ignored",
          "traceback": [
            "\u001b[0;31m---------------------------------------------------------------------------\u001b[0m",
            "\u001b[0;31mIndexError\u001b[0m                                Traceback (most recent call last)",
            "\u001b[0;32m<ipython-input-11-106962f9ac39>\u001b[0m in \u001b[0;36m<module>\u001b[0;34m\u001b[0m\n\u001b[0;32m----> 1\u001b[0;31m \u001b[0;32mdel\u001b[0m \u001b[0mmylist1\u001b[0m\u001b[0;34m[\u001b[0m\u001b[0;36m5\u001b[0m\u001b[0;34m]\u001b[0m \u001b[0;31m###indexno.5 has not any data so its show error\u001b[0m\u001b[0;34m\u001b[0m\u001b[0;34m\u001b[0m\u001b[0m\n\u001b[0m\u001b[1;32m      2\u001b[0m \u001b[0mprint\u001b[0m\u001b[0;34m(\u001b[0m\u001b[0mmylist1\u001b[0m\u001b[0;34m)\u001b[0m\u001b[0;34m\u001b[0m\u001b[0;34m\u001b[0m\u001b[0m\n",
            "\u001b[0;31mIndexError\u001b[0m: list assignment index out of range"
          ]
        }
      ]
    },
    {
      "cell_type": "code",
      "source": [
        "mylist1.remove(\"Data\")### remove help the user to delete the data directly \n",
        "print(mylist1)"
      ],
      "metadata": {
        "colab": {
          "base_uri": "https://localhost:8080/"
        },
        "id": "CqqJgTqbzkn-",
        "outputId": "2bbf2b47-211f-43b0-b1fc-5da0e95dce58"
      },
      "execution_count": 12,
      "outputs": [
        {
          "output_type": "stream",
          "name": "stdout",
          "text": [
            "[366, 476.0, False, 300]\n"
          ]
        }
      ]
    },
    {
      "cell_type": "code",
      "source": [
        "mylist1=[366,476.0,True,\"Data\"]\n",
        "print(mylist1[1])"
      ],
      "metadata": {
        "colab": {
          "base_uri": "https://localhost:8080/"
        },
        "id": "USR_DLLDzn7g",
        "outputId": "1fe2561f-dcab-4c72-e77c-4473f3523423"
      },
      "execution_count": 13,
      "outputs": [
        {
          "output_type": "stream",
          "name": "stdout",
          "text": [
            "476.0\n"
          ]
        }
      ]
    },
    {
      "cell_type": "code",
      "source": [
        "tuple=([\"dell\",\"Asus\",\"Hp\",27,387.87])\n",
        "print(tuple)\n",
        "del tuple\n",
        "print(tuple)"
      ],
      "metadata": {
        "colab": {
          "base_uri": "https://localhost:8080/"
        },
        "id": "ikAUQspdzxZi",
        "outputId": "cdc619b9-e542-4271-adba-ddc37aac5a0b"
      },
      "execution_count": 14,
      "outputs": [
        {
          "output_type": "stream",
          "name": "stdout",
          "text": [
            "['dell', 'Asus', 'Hp', 27, 387.87]\n",
            "<class 'tuple'>\n"
          ]
        }
      ]
    },
    {
      "cell_type": "code",
      "source": [
        "Dict={\n",
        "    \"Username\":[\"Admin\",\"Admin1\"],\n",
        "      \"Password\":\"Pass\",\n",
        "      \"Os\":\"windows\",\n",
        "      \"Ram\":\"128GB\"\n",
        "    \n",
        "}\n",
        "print(Dict[\"Username\"])"
      ],
      "metadata": {
        "colab": {
          "base_uri": "https://localhost:8080/"
        },
        "id": "we2l85CRz07M",
        "outputId": "23854b58-02a9-4c1e-aec9-4b7750767ba3"
      },
      "execution_count": 15,
      "outputs": [
        {
          "output_type": "stream",
          "name": "stdout",
          "text": [
            "['Admin', 'Admin1']\n"
          ]
        }
      ]
    },
    {
      "cell_type": "code",
      "source": [
        "print(Dict[\"Password\"])"
      ],
      "metadata": {
        "colab": {
          "base_uri": "https://localhost:8080/"
        },
        "id": "2k1dAdUvz3-y",
        "outputId": "6a8fa7ed-bffd-4c08-d9db-b75465789d65"
      },
      "execution_count": 16,
      "outputs": [
        {
          "output_type": "stream",
          "name": "stdout",
          "text": [
            "Pass\n"
          ]
        }
      ]
    },
    {
      "cell_type": "code",
      "source": [
        "Dict[\"Password\"]=32667\n",
        "print(Dict)"
      ],
      "metadata": {
        "colab": {
          "base_uri": "https://localhost:8080/"
        },
        "id": "2wdio1Fnz6gj",
        "outputId": "3d976351-4800-425b-c4c6-9d1849ad1f34"
      },
      "execution_count": 17,
      "outputs": [
        {
          "output_type": "stream",
          "name": "stdout",
          "text": [
            "{'Username': ['Admin', 'Admin1'], 'Password': 32667, 'Os': 'windows', 'Ram': '128GB'}\n"
          ]
        }
      ]
    },
    {
      "cell_type": "code",
      "source": [
        "del Dict[\"Os\"]\n",
        "print(Dict)"
      ],
      "metadata": {
        "colab": {
          "base_uri": "https://localhost:8080/"
        },
        "id": "qCgdhTh_z8d5",
        "outputId": "27042108-008f-49c0-c57d-73c3833119e3"
      },
      "execution_count": 18,
      "outputs": [
        {
          "output_type": "stream",
          "name": "stdout",
          "text": [
            "{'Username': ['Admin', 'Admin1'], 'Password': 32667, 'Ram': '128GB'}\n"
          ]
        }
      ]
    },
    {
      "cell_type": "code",
      "source": [
        "a=\"randomness\"\n",
        "print(a[0:100])\n",
        "print(a[3:])\n",
        "print(a[:3])\n",
        "print(a[-9:-1])"
      ],
      "metadata": {
        "colab": {
          "base_uri": "https://localhost:8080/"
        },
        "id": "eORog2sCz-dU",
        "outputId": "3ec3e497-3078-45b5-ac7f-c7fa11243583"
      },
      "execution_count": 19,
      "outputs": [
        {
          "output_type": "stream",
          "name": "stdout",
          "text": [
            "randomness\n",
            "domness\n",
            "ran\n",
            "andomnes\n"
          ]
        }
      ]
    },
    {
      "cell_type": "code",
      "source": [
        "a=\"randomness\"\n",
        "print(a[-10:])"
      ],
      "metadata": {
        "colab": {
          "base_uri": "https://localhost:8080/"
        },
        "id": "bxi-OdJh0BlW",
        "outputId": "d55d6ab5-e112-44d2-bfde-ccde79f1569a"
      },
      "execution_count": 20,
      "outputs": [
        {
          "output_type": "stream",
          "name": "stdout",
          "text": [
            "randomness\n"
          ]
        }
      ]
    },
    {
      "cell_type": "code",
      "source": [
        "b=\"Python\"\n",
        " ##print(b[1])\n",
        " ###print(b[2])\n",
        "print(b[::-2])"
      ],
      "metadata": {
        "colab": {
          "base_uri": "https://localhost:8080/"
        },
        "id": "A4vpa7Nv0Dn2",
        "outputId": "9d99573a-da98-48ef-9a76-ce3131aec1dd"
      },
      "execution_count": 21,
      "outputs": [
        {
          "output_type": "stream",
          "name": "stdout",
          "text": [
            "nhy\n"
          ]
        }
      ]
    },
    {
      "cell_type": "code",
      "source": [
        "myset={\"A\",\"B\",\"C\",32465,\"A\"}\n",
        "print(myset)\n",
        "print(len(myset))"
      ],
      "metadata": {
        "colab": {
          "base_uri": "https://localhost:8080/"
        },
        "id": "wGSXZMJi0Htv",
        "outputId": "cbe2dba3-ce1b-42da-923c-994dc4d42ddb"
      },
      "execution_count": 22,
      "outputs": [
        {
          "output_type": "stream",
          "name": "stdout",
          "text": [
            "{32465, 'B', 'A', 'C'}\n",
            "4\n"
          ]
        }
      ]
    },
    {
      "cell_type": "code",
      "source": [
        "myset.add(True)\n",
        "print(myset)"
      ],
      "metadata": {
        "colab": {
          "base_uri": "https://localhost:8080/"
        },
        "id": "axL9nr6a0JzN",
        "outputId": "1aebad1e-b2b4-4d56-ded9-200d7144378b"
      },
      "execution_count": 23,
      "outputs": [
        {
          "output_type": "stream",
          "name": "stdout",
          "text": [
            "{True, 'B', 'A', 'C', 32465}\n"
          ]
        }
      ]
    },
    {
      "cell_type": "code",
      "source": [
        "var=set()\n",
        "print(var)"
      ],
      "metadata": {
        "colab": {
          "base_uri": "https://localhost:8080/"
        },
        "id": "izN32tli0MOs",
        "outputId": "593384eb-7404-4832-db6c-83c48fd4ed67"
      },
      "execution_count": 24,
      "outputs": [
        {
          "output_type": "stream",
          "name": "stdout",
          "text": [
            "set()\n"
          ]
        }
      ]
    },
    {
      "cell_type": "code",
      "source": [
        "var.add(\"Add\")\n",
        "print(var)\n"
      ],
      "metadata": {
        "colab": {
          "base_uri": "https://localhost:8080/"
        },
        "id": "ndIPxuxn0Qu0",
        "outputId": "d3ac3814-fab4-43f0-fb5a-8cc6fbc78cc0"
      },
      "execution_count": 25,
      "outputs": [
        {
          "output_type": "stream",
          "name": "stdout",
          "text": [
            "{'Add'}\n"
          ]
        }
      ]
    },
    {
      "cell_type": "code",
      "source": [
        "set1={\"Data\",\"task\",\"Status\"}\n",
        "set2={0,True,\"Data\"}\n",
        "set3=set1|(set2)\n",
        "print(set3)"
      ],
      "metadata": {
        "colab": {
          "base_uri": "https://localhost:8080/"
        },
        "id": "CMpmi1QY0SrV",
        "outputId": "ddab42a8-9d9f-4ef3-d654-bfcfe9f5de44"
      },
      "execution_count": 26,
      "outputs": [
        {
          "output_type": "stream",
          "name": "stdout",
          "text": [
            "{'Status', 'task', 0, True, 'Data'}\n"
          ]
        }
      ]
    },
    {
      "cell_type": "code",
      "source": [
        "set1={\"Data\",\"task\",\"Status\"}\n",
        "set2={0,True,\"Data\"}\n",
        "set3=set1&(set2)\n",
        "print(set3)"
      ],
      "metadata": {
        "colab": {
          "base_uri": "https://localhost:8080/"
        },
        "id": "y9esqMqQ0Vir",
        "outputId": "3cb1e5be-ab7c-49d5-8f2d-b63c0dce09b7"
      },
      "execution_count": 27,
      "outputs": [
        {
          "output_type": "stream",
          "name": "stdout",
          "text": [
            "{'Data'}\n"
          ]
        }
      ]
    },
    {
      "cell_type": "code",
      "source": [
        "set1.clear()\n",
        "print(set1)"
      ],
      "metadata": {
        "colab": {
          "base_uri": "https://localhost:8080/"
        },
        "id": "mtkNHxSg0Xm8",
        "outputId": "1e62c5b7-c9e5-4356-bd3b-a85e699ae68f"
      },
      "execution_count": 28,
      "outputs": [
        {
          "output_type": "stream",
          "name": "stdout",
          "text": [
            "set()\n"
          ]
        }
      ]
    },
    {
      "cell_type": "code",
      "source": [
        "set1=100\n",
        "set2=100\n",
        "print(set1!=set2)\n",
        "print((set1)>=(set2))\n",
        "print(set1==set2)"
      ],
      "metadata": {
        "colab": {
          "base_uri": "https://localhost:8080/"
        },
        "id": "XalhmXT_0aNJ",
        "outputId": "cbc2e0fc-b9e5-42d4-f350-db40bcc65529"
      },
      "execution_count": 29,
      "outputs": [
        {
          "output_type": "stream",
          "name": "stdout",
          "text": [
            "False\n",
            "True\n",
            "True\n"
          ]
        }
      ]
    },
    {
      "cell_type": "code",
      "source": [
        "myfrozenset= frozenset([\"E\",\"F\"])\n",
        "print(myfrozenset)"
      ],
      "metadata": {
        "colab": {
          "base_uri": "https://localhost:8080/"
        },
        "id": "wF1zC5nV0cz2",
        "outputId": "24bac0a3-1463-48ce-e014-83eab5af0edd"
      },
      "execution_count": 30,
      "outputs": [
        {
          "output_type": "stream",
          "name": "stdout",
          "text": [
            "frozenset({'F', 'E'})\n"
          ]
        }
      ]
    },
    {
      "cell_type": "code",
      "source": [
        "myfrozenset.add(\"add\") ### frozen set doesnot support add function\n",
        "print(myfrozenset)"
      ],
      "metadata": {
        "colab": {
          "base_uri": "https://localhost:8080/",
          "height": 182
        },
        "id": "QZafLliB0e10",
        "outputId": "2cdddb92-ecda-40af-e36f-432d753298bd"
      },
      "execution_count": 31,
      "outputs": [
        {
          "output_type": "error",
          "ename": "AttributeError",
          "evalue": "ignored",
          "traceback": [
            "\u001b[0;31m---------------------------------------------------------------------------\u001b[0m",
            "\u001b[0;31mAttributeError\u001b[0m                            Traceback (most recent call last)",
            "\u001b[0;32m<ipython-input-31-3b69d7cfb0ab>\u001b[0m in \u001b[0;36m<module>\u001b[0;34m\u001b[0m\n\u001b[0;32m----> 1\u001b[0;31m \u001b[0mmyfrozenset\u001b[0m\u001b[0;34m.\u001b[0m\u001b[0madd\u001b[0m\u001b[0;34m(\u001b[0m\u001b[0;34m\"add\"\u001b[0m\u001b[0;34m)\u001b[0m \u001b[0;31m### frozen set doesnot support add function\u001b[0m\u001b[0;34m\u001b[0m\u001b[0;34m\u001b[0m\u001b[0m\n\u001b[0m\u001b[1;32m      2\u001b[0m \u001b[0mprint\u001b[0m\u001b[0;34m(\u001b[0m\u001b[0mmyfrozenset\u001b[0m\u001b[0;34m)\u001b[0m\u001b[0;34m\u001b[0m\u001b[0;34m\u001b[0m\u001b[0m\n",
            "\u001b[0;31mAttributeError\u001b[0m: 'frozenset' object has no attribute 'add'"
          ]
        }
      ]
    },
    {
      "cell_type": "code",
      "source": [
        "print(\"hello\")\n",
        "print(\"hello\")\n",
        "print(\"hello\")\n",
        "print(\"hello\")\n",
        "print(\"hello\")"
      ],
      "metadata": {
        "colab": {
          "base_uri": "https://localhost:8080/"
        },
        "id": "bN8YS3Wa0g5m",
        "outputId": "67fedf3e-d8fe-49cc-d4a8-6444c5495a73"
      },
      "execution_count": 32,
      "outputs": [
        {
          "output_type": "stream",
          "name": "stdout",
          "text": [
            "hello\n",
            "hello\n",
            "hello\n",
            "hello\n",
            "hello\n"
          ]
        }
      ]
    },
    {
      "cell_type": "code",
      "source": [
        "def func():\n",
        "  for x in range(10):\n",
        "    print(\"The task is assigned\")\n",
        "    print(\"Work is on progress\")\n",
        "func() "
      ],
      "metadata": {
        "colab": {
          "base_uri": "https://localhost:8080/"
        },
        "id": "ahMfnPZ60jKk",
        "outputId": "71abab42-2f2e-4e7f-c4da-c2b4b57c4075"
      },
      "execution_count": 33,
      "outputs": [
        {
          "output_type": "stream",
          "name": "stdout",
          "text": [
            "The task is assigned\n",
            "Work is on progress\n",
            "The task is assigned\n",
            "Work is on progress\n",
            "The task is assigned\n",
            "Work is on progress\n",
            "The task is assigned\n",
            "Work is on progress\n",
            "The task is assigned\n",
            "Work is on progress\n",
            "The task is assigned\n",
            "Work is on progress\n",
            "The task is assigned\n",
            "Work is on progress\n",
            "The task is assigned\n",
            "Work is on progress\n",
            "The task is assigned\n",
            "Work is on progress\n",
            "The task is assigned\n",
            "Work is on progress\n"
          ]
        }
      ]
    },
    {
      "cell_type": "code",
      "source": [
        "list1=[\"Data\",\"Status\",\"Progress\",1,1,2 ,3]\n",
        "print(list1[0])\n",
        "print(list1[1])\n",
        "print(list1[2])\n",
        "print(list1[3])"
      ],
      "metadata": {
        "colab": {
          "base_uri": "https://localhost:8080/"
        },
        "id": "Hls83Fzm0lxI",
        "outputId": "1b718d5a-76c3-4da3-b220-945ca8aaeac1"
      },
      "execution_count": 34,
      "outputs": [
        {
          "output_type": "stream",
          "name": "stdout",
          "text": [
            "Data\n",
            "Status\n",
            "Progress\n",
            "1\n"
          ]
        }
      ]
    },
    {
      "cell_type": "code",
      "source": [
        "for values in list1:\n",
        " print(values)"
      ],
      "metadata": {
        "colab": {
          "base_uri": "https://localhost:8080/"
        },
        "id": "rwY3P_z-0oGa",
        "outputId": "f55212e7-183e-4a81-9921-27c42f7ee696"
      },
      "execution_count": 35,
      "outputs": [
        {
          "output_type": "stream",
          "name": "stdout",
          "text": [
            "Data\n",
            "Status\n",
            "Progress\n",
            "1\n",
            "1\n",
            "2\n",
            "3\n"
          ]
        }
      ]
    },
    {
      "cell_type": "code",
      "source": [
        "def sub(num1,num2): \n",
        "  print(\"The addition of two values are\",(num1-num2))\n",
        "sub(45,55) "
      ],
      "metadata": {
        "colab": {
          "base_uri": "https://localhost:8080/"
        },
        "id": "R8kY4ps90qsY",
        "outputId": "a5149eeb-de6b-416b-bf75-50b2deeaa8e3"
      },
      "execution_count": 36,
      "outputs": [
        {
          "output_type": "stream",
          "name": "stdout",
          "text": [
            "The addition of two values are -10\n"
          ]
        }
      ]
    },
    {
      "cell_type": "code",
      "source": [
        "def a(name, name1):\n",
        "  print(\"Hey\",name,\"and\",name1, \"good to see you today\")\n",
        "a(\"Tom\",\"Jerry\") "
      ],
      "metadata": {
        "colab": {
          "base_uri": "https://localhost:8080/"
        },
        "id": "H1VWVlff0tOV",
        "outputId": "9a5856c2-024b-4144-f456-25dd140eea17"
      },
      "execution_count": 37,
      "outputs": [
        {
          "output_type": "stream",
          "name": "stdout",
          "text": [
            "Hey Tom and Jerry good to see you today\n"
          ]
        }
      ]
    },
    {
      "cell_type": "code",
      "source": [
        "def user():\n",
        "  x=input(\"Enter the name:\")\n",
        "  print(\"Nice to meet you\",x)\n",
        "user() "
      ],
      "metadata": {
        "colab": {
          "base_uri": "https://localhost:8080/"
        },
        "id": "3ISixw9t0vLx",
        "outputId": "2bbc6814-2beb-4035-dc64-21665b74fce9"
      },
      "execution_count": 38,
      "outputs": [
        {
          "output_type": "stream",
          "name": "stdout",
          "text": [
            "Enter the name:Chandan\n",
            "Nice to meet you Chandan\n"
          ]
        }
      ]
    },
    {
      "cell_type": "code",
      "source": [
        "def addition():\n",
        "  num1 = int(input(\"Enter first num: \"))\n",
        "  num2 = int(input(\"Enter second num: \"))\n",
        "  print(\"The sum of given two number is:\", (num1 + num2))\n",
        "addition()"
      ],
      "metadata": {
        "colab": {
          "base_uri": "https://localhost:8080/"
        },
        "id": "2IUnXzDu0xFj",
        "outputId": "50e05e2b-edcc-43c3-dd34-a1c18b71dae1"
      },
      "execution_count": 39,
      "outputs": [
        {
          "output_type": "stream",
          "name": "stdout",
          "text": [
            "Enter first num: 3\n",
            "Enter second num: 5\n",
            "The sum of given two number is: 8\n"
          ]
        }
      ]
    },
    {
      "cell_type": "code",
      "source": [
        "#Advance argument passing\n",
        "# Positional arguments\n",
        "def arg(name,batch,year):\n",
        "  print(\"Hey this is\",name,\"from\",batch,\"in the year\",year)\n",
        "arg(\"Sep batch\",2022,\"Tom\")  "
      ],
      "metadata": {
        "colab": {
          "base_uri": "https://localhost:8080/"
        },
        "id": "90usJmrq00n1",
        "outputId": "bf338ef2-0b91-474a-f48d-79aac21813e3"
      },
      "execution_count": 40,
      "outputs": [
        {
          "output_type": "stream",
          "name": "stdout",
          "text": [
            "Hey this is Sep batch from 2022 in the year Tom\n"
          ]
        }
      ]
    },
    {
      "cell_type": "code",
      "source": [
        "def value(a,b,c,d):\n",
        "  print(a,b,c,d)\n",
        "value(4,2,1,3) "
      ],
      "metadata": {
        "colab": {
          "base_uri": "https://localhost:8080/"
        },
        "id": "DwXBeZxt04_M",
        "outputId": "1f3eca8c-f7b7-4221-b8fd-3f9e7dd32cb1"
      },
      "execution_count": 41,
      "outputs": [
        {
          "output_type": "stream",
          "name": "stdout",
          "text": [
            "4 2 1 3\n"
          ]
        }
      ]
    },
    {
      "cell_type": "code",
      "source": [],
      "metadata": {
        "id": "mFsVRXBs07Ai"
      },
      "execution_count": null,
      "outputs": []
    }
  ]
}